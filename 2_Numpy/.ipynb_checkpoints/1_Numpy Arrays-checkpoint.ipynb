{
 "cells": [
  {
   "cell_type": "markdown",
   "id": "248bfce7",
   "metadata": {},
   "source": [
    "NUMPY"
   ]
  },
  {
   "cell_type": "markdown",
   "id": "7381064a",
   "metadata": {},
   "source": [
    "INTRODUCTION \n",
    "\n",
    "* Python library for creating n dimensiiona arrays \n",
    "* Built in linear algebra , trigonometric and random number capabilities\n",
    "\n",
    "WHY NUMPY??\n",
    "\n",
    "* Efficient than lists\n",
    "* Due to broadcasting capabilities\n"
   ]
  },
  {
   "cell_type": "markdown",
   "id": "d52caa0f",
   "metadata": {},
   "source": [
    "NUMPY ARRAY"
   ]
  },
  {
   "cell_type": "code",
   "execution_count": null,
   "id": "87347a6c",
   "metadata": {},
   "outputs": [],
   "source": []
  }
 ],
 "metadata": {
  "kernelspec": {
   "display_name": "Python 3 (ipykernel)",
   "language": "python",
   "name": "python3"
  },
  "language_info": {
   "codemirror_mode": {
    "name": "ipython",
    "version": 3
   },
   "file_extension": ".py",
   "mimetype": "text/x-python",
   "name": "python",
   "nbconvert_exporter": "python",
   "pygments_lexer": "ipython3",
   "version": "3.10.8"
  }
 },
 "nbformat": 4,
 "nbformat_minor": 5
}
