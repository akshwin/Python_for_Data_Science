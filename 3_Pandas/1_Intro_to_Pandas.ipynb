{
 "cells": [
  {
   "cell_type": "markdown",
   "id": "d4916ffd",
   "metadata": {},
   "source": [
    "PANDAS"
   ]
  },
  {
   "attachments": {},
   "cell_type": "markdown",
   "id": "1350b361",
   "metadata": {},
   "source": [
    "* Library for Data Analysis\n",
    "* Extremly powerful table(DataFrame) system built off of Numpy.\n",
    "\n",
    "What can we do with it ??\n",
    "\n",
    "* Tools for rading and writing data between many formats.\n",
    "* Intelligently grab data based on indexing , logic , subseting.\n",
    "* Handle missing data\n",
    "* Adjust and restructure data.\n",
    "\n",
    "CONTENTS \n",
    "* Series and Data Frames\n",
    "* Conditional Filtering and useful methods\n",
    "* Missing data\n",
    "* Group by operations\n",
    "* Conbining data frames\n",
    "* Text methods and Time methods\n",
    "* Inputs and outputs"
   ]
  }
 ],
 "metadata": {
  "kernelspec": {
   "display_name": "Python 3 (ipykernel)",
   "language": "python",
   "name": "python3"
  },
  "language_info": {
   "codemirror_mode": {
    "name": "ipython",
    "version": 3
   },
   "file_extension": ".py",
   "mimetype": "text/x-python",
   "name": "python",
   "nbconvert_exporter": "python",
   "pygments_lexer": "ipython3",
   "version": "3.9.13"
  }
 },
 "nbformat": 4,
 "nbformat_minor": 5
}
